{
  "cells": [
    {
      "cell_type": "markdown",
      "metadata": {
        "id": "bVbHQbDDjw9i"
      },
      "source": [
        "## ДЗ 1 (ОБЯЗАТЕЛЬНОЕ): Анализ температурных данных и мониторинг текущей температуры через OpenWeatherMap API\n",
        "\n",
        "**Описание задания:**  \n",
        "Вы аналитик в компании, занимающейся изучением климатических изменений и мониторингом температур в разных городах. Вам нужно провести анализ исторических данных о температуре для выявления сезонных закономерностей и аномалий. Также необходимо подключить API OpenWeatherMap для получения текущей температуры в выбранных городах и сравнить её с историческими данными.\n",
        "\n",
        "\n",
        "### Цели задания:\n",
        "1. Провести **анализ временных рядов**, включая:\n",
        "   - Вычисление скользящего среднего и стандартного отклонения для сглаживания температурных колебаний.\n",
        "   - Определение аномалий на основе отклонений температуры от $ \\text{скользящее среднее} \\pm 2\\sigma $.\n",
        "   - Построение долгосрочных трендов изменения температуры.\n",
        "   - Любые дополнительные исследования будут вам в плюс.\n",
        "\n",
        "2. Осуществить **мониторинг текущей температуры**:\n",
        "   - Получить текущую температуру через OpenWeatherMap API.\n",
        "   - Сравнить её с историческим нормальным диапазоном для текущего сезона.\n",
        "\n",
        "3. Разработать **интерактивное приложение**:\n",
        "   - Дать пользователю возможность выбрать город.\n",
        "   - Отобразить результаты анализа температур, включая временные ряды, сезонные профили и аномалии.\n",
        "   - Провести анализ текущей температуры в контексте исторических данных.\n",
        "\n",
        "\n",
        "### Описание данных\n",
        "Исторические данные о температуре содержатся в файле `temperature_data.csv`, включают:\n",
        "  - `city`: Название города.\n",
        "  - `timestamp`: Дата (с шагом в 1 день).\n",
        "  - `temperature`: Среднесуточная температура (в °C).\n",
        "  - `season`: Сезон года (зима, весна, лето, осень).\n",
        "\n",
        "Код для генерации файла вы найдете ниже.\n",
        "\n",
        "### Этапы выполнения\n",
        "\n",
        "1. **Анализ исторических данных**:\n",
        "   - Вычислить **скользящее среднее** температуры с окном в 30 дней для сглаживания краткосрочных колебаний.\n",
        "   - Рассчитать среднюю температуру и стандартное отклонение для каждого сезона в каждом городе.\n",
        "   - Выявить аномалии, где температура выходит за пределы $ \\text{среднее} \\pm 2\\sigma $.\n",
        "   - Попробуйте распараллелить проведение этого анализа. Сравните скорость выполнения анализа с распараллеливанием и без него.\n",
        "\n",
        "2. **Мониторинг текущей температуры**:\n",
        "   - Подключить OpenWeatherMap API для получения текущей температуры города. Для получения API Key (бесплатно) надо зарегистрироваться на сайте. Обратите внимание, что API Key может активироваться только через 2-3 часа, это нормально. Посему получите ключ заранее.\n",
        "   - Получить текущую температуру для выбранного города через OpenWeatherMap API.\n",
        "   - Определить, является ли текущая температура нормальной, исходя из исторических данных для текущего сезона.\n",
        "   - Данные на самом деле не совсем реальные (сюрпрайз). Поэтому на момент эксперимента погода в Берлине, Каире и Дубае была в рамках нормы, а в Пекине и Москве аномальная. Протестируйте свое решение для разных городов.\n",
        "   - Попробуйте для получения текущей температуры использовать синхронные и асинхронные методы. Что здесь лучше использовать?\n",
        "\n",
        "3. **Создание приложения на Streamlit**:\n",
        "   - Добавить интерфейс для загрузки файла с историческими данными.\n",
        "   - Добавить интерфейс для выбора города (из выпадающего списка).\n",
        "   - Добавить форму для ввода API-ключа OpenWeatherMap. Когда он не введен, данные для текущей погоды не показываются. Если ключ некорректный, выведите на экран ошибку (должно приходить `{\"cod\":401, \"message\": \"Invalid API key. Please see https://openweathermap.org/faq#error401 for more info.\"}`).\n",
        "   - Отобразить:\n",
        "     - Описательную статистику по историческим данным для города, можно добавить визуализации.\n",
        "     - Временной ряд температур с выделением аномалий (например, точками другого цвета).\n",
        "     - Сезонные профили с указанием среднего и стандартного отклонения.\n",
        "   - Вывести текущую температуру через API и указать, нормальна ли она для сезона.\n",
        "\n",
        "### Критерии оценивания\n",
        "\n",
        "- Корректное проведение анализа данных – 1 балл.\n",
        "- Исследование распараллеливания анализа – 1 балл.\n",
        "- Корректный поиск аномалий – 1 балл.\n",
        "- Подключение к API и корректность выполнения запроса – 1 балл.\n",
        "- Проведение эксперимента с синхронным и асинхронным способом запроса к API – 1 балл.\n",
        "- Создание интерфейса приложения streamlit в соответствии с описанием – 3 балла.\n",
        "- Корректное отображение графиков и статистик, а также сезонных профилей – 1 балл.\n",
        "- Корректный вывод текущей температуры в выбранном городе и проведение проверки на ее аномальность – 1 балл.\n",
        "- Любая дополнительная функциональность приветствуется и оценивается бонусными баллами (не более 2 в сумме) на усмотрение проверяющего.\n",
        "\n",
        "### Формат сдачи домашнего задания\n",
        "\n",
        "Решение нужно развернуть в Streamlit Cloud (бесплатно)\n",
        "\n",
        "*   Создаем новый репозиторий на GitHub.  \n",
        "*   Загружаем проект.\n",
        "*   Создаем аккаунт в [Streamlit Cloud](https://streamlit.io/cloud).\n",
        "*   Авторизуемся в Streamlit Cloud.\n",
        "*   Создаем новое приложение в Streamlit Cloud и подключаем GitHub-репозиторий.\n",
        "*   Deploy!\n",
        "\n",
        "Сдать в форму необходимо:\n",
        "1. Ссылку на развернутое в Streamlit Cloud приложение.\n",
        "2. Ссылку на код. Все выводы про, например, использование параллельности/асинхронности опишите в комментариях.\n",
        "\n",
        "Не забудьте удалить ключ API и иную чувствительную информацию."
      ]
    },
    {
      "cell_type": "code",
      "execution_count": 1,
      "metadata": {
        "id": "SsrwTMhRj6dK"
      },
      "outputs": [],
      "source": [
        "import pandas as pd\n",
        "import numpy as np\n",
        "\n",
        "# Реальные средние температуры (примерные данные) для городов по сезонам\n",
        "seasonal_temperatures = {\n",
        "    \"New York\": {\"winter\": 0, \"spring\": 10, \"summer\": 25, \"autumn\": 15},\n",
        "    \"London\": {\"winter\": 5, \"spring\": 11, \"summer\": 18, \"autumn\": 12},\n",
        "    \"Paris\": {\"winter\": 4, \"spring\": 12, \"summer\": 20, \"autumn\": 13},\n",
        "    \"Tokyo\": {\"winter\": 6, \"spring\": 15, \"summer\": 27, \"autumn\": 18},\n",
        "    \"Moscow\": {\"winter\": -10, \"spring\": 5, \"summer\": 18, \"autumn\": 8},\n",
        "    \"Sydney\": {\"winter\": 12, \"spring\": 18, \"summer\": 25, \"autumn\": 20},\n",
        "    \"Berlin\": {\"winter\": 0, \"spring\": 10, \"summer\": 20, \"autumn\": 11},\n",
        "    \"Beijing\": {\"winter\": -2, \"spring\": 13, \"summer\": 27, \"autumn\": 16},\n",
        "    \"Rio de Janeiro\": {\"winter\": 20, \"spring\": 25, \"summer\": 30, \"autumn\": 25},\n",
        "    \"Dubai\": {\"winter\": 20, \"spring\": 30, \"summer\": 40, \"autumn\": 30},\n",
        "    \"Los Angeles\": {\"winter\": 15, \"spring\": 18, \"summer\": 25, \"autumn\": 20},\n",
        "    \"Singapore\": {\"winter\": 27, \"spring\": 28, \"summer\": 28, \"autumn\": 27},\n",
        "    \"Mumbai\": {\"winter\": 25, \"spring\": 30, \"summer\": 35, \"autumn\": 30},\n",
        "    \"Cairo\": {\"winter\": 15, \"spring\": 25, \"summer\": 35, \"autumn\": 25},\n",
        "    \"Mexico City\": {\"winter\": 12, \"spring\": 18, \"summer\": 20, \"autumn\": 15},\n",
        "}\n",
        "\n",
        "# Сопоставление месяцев с сезонами\n",
        "month_to_season = {12: \"winter\", 1: \"winter\", 2: \"winter\",\n",
        "                   3: \"spring\", 4: \"spring\", 5: \"spring\",\n",
        "                   6: \"summer\", 7: \"summer\", 8: \"summer\",\n",
        "                   9: \"autumn\", 10: \"autumn\", 11: \"autumn\"}\n",
        "\n",
        "# Генерация данных о температуре\n",
        "def generate_realistic_temperature_data(cities, num_years=10):\n",
        "    dates = pd.date_range(start=\"2010-01-01\", periods=365 * num_years, freq=\"D\")\n",
        "    data = []\n",
        "\n",
        "    for city in cities:\n",
        "        for date in dates:\n",
        "            season = month_to_season[date.month]\n",
        "            mean_temp = seasonal_temperatures[city][season]\n",
        "            # Добавляем случайное отклонение\n",
        "            temperature = np.random.normal(loc=mean_temp, scale=5)\n",
        "            data.append({\"city\": city, \"timestamp\": date, \"temperature\": temperature})\n",
        "\n",
        "    df = pd.DataFrame(data)\n",
        "    df['season'] = df['timestamp'].dt.month.map(lambda x: month_to_season[x])\n",
        "    return df\n",
        "\n",
        "# Генерация данных\n",
        "data = generate_realistic_temperature_data(list(seasonal_temperatures.keys()))\n",
        "data.to_csv('temperature_data.csv', index=False)\n"
      ]
    },
    {
      "cell_type": "code",
      "execution_count": 2,
      "metadata": {
        "colab": {
          "base_uri": "https://localhost:8080/",
          "height": 411
        },
        "id": "6K7fvZWOXmmu",
        "outputId": "c3e837bf-252e-4e50-e5f1-fe0bbb8f6e9d"
      },
      "outputs": [
        {
          "output_type": "execute_result",
          "data": {
            "text/plain": [
              "              city   timestamp  temperature  season\n",
              "0         New York  2010-01-01    -7.000078  winter\n",
              "1         New York  2010-01-02     0.251163  winter\n",
              "2         New York  2010-01-03    -5.185995  winter\n",
              "3         New York  2010-01-04     5.994464  winter\n",
              "4         New York  2010-01-05    -1.887698  winter\n",
              "...            ...         ...          ...     ...\n",
              "54745  Mexico City  2019-12-25    13.450151  winter\n",
              "54746  Mexico City  2019-12-26     7.375380  winter\n",
              "54747  Mexico City  2019-12-27     8.762830  winter\n",
              "54748  Mexico City  2019-12-28    15.371163  winter\n",
              "54749  Mexico City  2019-12-29    13.557341  winter\n",
              "\n",
              "[54750 rows x 4 columns]"
            ],
            "text/html": [
              "\n",
              "  <div id=\"df-bd010626-8d77-43b7-8fe5-1fc9bca16788\" class=\"colab-df-container\">\n",
              "    <div>\n",
              "<style scoped>\n",
              "    .dataframe tbody tr th:only-of-type {\n",
              "        vertical-align: middle;\n",
              "    }\n",
              "\n",
              "    .dataframe tbody tr th {\n",
              "        vertical-align: top;\n",
              "    }\n",
              "\n",
              "    .dataframe thead th {\n",
              "        text-align: right;\n",
              "    }\n",
              "</style>\n",
              "<table border=\"1\" class=\"dataframe\">\n",
              "  <thead>\n",
              "    <tr style=\"text-align: right;\">\n",
              "      <th></th>\n",
              "      <th>city</th>\n",
              "      <th>timestamp</th>\n",
              "      <th>temperature</th>\n",
              "      <th>season</th>\n",
              "    </tr>\n",
              "  </thead>\n",
              "  <tbody>\n",
              "    <tr>\n",
              "      <th>0</th>\n",
              "      <td>New York</td>\n",
              "      <td>2010-01-01</td>\n",
              "      <td>-7.000078</td>\n",
              "      <td>winter</td>\n",
              "    </tr>\n",
              "    <tr>\n",
              "      <th>1</th>\n",
              "      <td>New York</td>\n",
              "      <td>2010-01-02</td>\n",
              "      <td>0.251163</td>\n",
              "      <td>winter</td>\n",
              "    </tr>\n",
              "    <tr>\n",
              "      <th>2</th>\n",
              "      <td>New York</td>\n",
              "      <td>2010-01-03</td>\n",
              "      <td>-5.185995</td>\n",
              "      <td>winter</td>\n",
              "    </tr>\n",
              "    <tr>\n",
              "      <th>3</th>\n",
              "      <td>New York</td>\n",
              "      <td>2010-01-04</td>\n",
              "      <td>5.994464</td>\n",
              "      <td>winter</td>\n",
              "    </tr>\n",
              "    <tr>\n",
              "      <th>4</th>\n",
              "      <td>New York</td>\n",
              "      <td>2010-01-05</td>\n",
              "      <td>-1.887698</td>\n",
              "      <td>winter</td>\n",
              "    </tr>\n",
              "    <tr>\n",
              "      <th>...</th>\n",
              "      <td>...</td>\n",
              "      <td>...</td>\n",
              "      <td>...</td>\n",
              "      <td>...</td>\n",
              "    </tr>\n",
              "    <tr>\n",
              "      <th>54745</th>\n",
              "      <td>Mexico City</td>\n",
              "      <td>2019-12-25</td>\n",
              "      <td>13.450151</td>\n",
              "      <td>winter</td>\n",
              "    </tr>\n",
              "    <tr>\n",
              "      <th>54746</th>\n",
              "      <td>Mexico City</td>\n",
              "      <td>2019-12-26</td>\n",
              "      <td>7.375380</td>\n",
              "      <td>winter</td>\n",
              "    </tr>\n",
              "    <tr>\n",
              "      <th>54747</th>\n",
              "      <td>Mexico City</td>\n",
              "      <td>2019-12-27</td>\n",
              "      <td>8.762830</td>\n",
              "      <td>winter</td>\n",
              "    </tr>\n",
              "    <tr>\n",
              "      <th>54748</th>\n",
              "      <td>Mexico City</td>\n",
              "      <td>2019-12-28</td>\n",
              "      <td>15.371163</td>\n",
              "      <td>winter</td>\n",
              "    </tr>\n",
              "    <tr>\n",
              "      <th>54749</th>\n",
              "      <td>Mexico City</td>\n",
              "      <td>2019-12-29</td>\n",
              "      <td>13.557341</td>\n",
              "      <td>winter</td>\n",
              "    </tr>\n",
              "  </tbody>\n",
              "</table>\n",
              "<p>54750 rows × 4 columns</p>\n",
              "</div>\n",
              "    <div class=\"colab-df-buttons\">\n",
              "\n",
              "  <div class=\"colab-df-container\">\n",
              "    <button class=\"colab-df-convert\" onclick=\"convertToInteractive('df-bd010626-8d77-43b7-8fe5-1fc9bca16788')\"\n",
              "            title=\"Convert this dataframe to an interactive table.\"\n",
              "            style=\"display:none;\">\n",
              "\n",
              "  <svg xmlns=\"http://www.w3.org/2000/svg\" height=\"24px\" viewBox=\"0 -960 960 960\">\n",
              "    <path d=\"M120-120v-720h720v720H120Zm60-500h600v-160H180v160Zm220 220h160v-160H400v160Zm0 220h160v-160H400v160ZM180-400h160v-160H180v160Zm440 0h160v-160H620v160ZM180-180h160v-160H180v160Zm440 0h160v-160H620v160Z\"/>\n",
              "  </svg>\n",
              "    </button>\n",
              "\n",
              "  <style>\n",
              "    .colab-df-container {\n",
              "      display:flex;\n",
              "      gap: 12px;\n",
              "    }\n",
              "\n",
              "    .colab-df-convert {\n",
              "      background-color: #E8F0FE;\n",
              "      border: none;\n",
              "      border-radius: 50%;\n",
              "      cursor: pointer;\n",
              "      display: none;\n",
              "      fill: #1967D2;\n",
              "      height: 32px;\n",
              "      padding: 0 0 0 0;\n",
              "      width: 32px;\n",
              "    }\n",
              "\n",
              "    .colab-df-convert:hover {\n",
              "      background-color: #E2EBFA;\n",
              "      box-shadow: 0px 1px 2px rgba(60, 64, 67, 0.3), 0px 1px 3px 1px rgba(60, 64, 67, 0.15);\n",
              "      fill: #174EA6;\n",
              "    }\n",
              "\n",
              "    .colab-df-buttons div {\n",
              "      margin-bottom: 4px;\n",
              "    }\n",
              "\n",
              "    [theme=dark] .colab-df-convert {\n",
              "      background-color: #3B4455;\n",
              "      fill: #D2E3FC;\n",
              "    }\n",
              "\n",
              "    [theme=dark] .colab-df-convert:hover {\n",
              "      background-color: #434B5C;\n",
              "      box-shadow: 0px 1px 3px 1px rgba(0, 0, 0, 0.15);\n",
              "      filter: drop-shadow(0px 1px 2px rgba(0, 0, 0, 0.3));\n",
              "      fill: #FFFFFF;\n",
              "    }\n",
              "  </style>\n",
              "\n",
              "    <script>\n",
              "      const buttonEl =\n",
              "        document.querySelector('#df-bd010626-8d77-43b7-8fe5-1fc9bca16788 button.colab-df-convert');\n",
              "      buttonEl.style.display =\n",
              "        google.colab.kernel.accessAllowed ? 'block' : 'none';\n",
              "\n",
              "      async function convertToInteractive(key) {\n",
              "        const element = document.querySelector('#df-bd010626-8d77-43b7-8fe5-1fc9bca16788');\n",
              "        const dataTable =\n",
              "          await google.colab.kernel.invokeFunction('convertToInteractive',\n",
              "                                                    [key], {});\n",
              "        if (!dataTable) return;\n",
              "\n",
              "        const docLinkHtml = 'Like what you see? Visit the ' +\n",
              "          '<a target=\"_blank\" href=https://colab.research.google.com/notebooks/data_table.ipynb>data table notebook</a>'\n",
              "          + ' to learn more about interactive tables.';\n",
              "        element.innerHTML = '';\n",
              "        dataTable['output_type'] = 'display_data';\n",
              "        await google.colab.output.renderOutput(dataTable, element);\n",
              "        const docLink = document.createElement('div');\n",
              "        docLink.innerHTML = docLinkHtml;\n",
              "        element.appendChild(docLink);\n",
              "      }\n",
              "    </script>\n",
              "  </div>\n",
              "\n",
              "\n",
              "<div id=\"df-442e3f3e-17f4-4486-95af-65df75b7914f\">\n",
              "  <button class=\"colab-df-quickchart\" onclick=\"quickchart('df-442e3f3e-17f4-4486-95af-65df75b7914f')\"\n",
              "            title=\"Suggest charts\"\n",
              "            style=\"display:none;\">\n",
              "\n",
              "<svg xmlns=\"http://www.w3.org/2000/svg\" height=\"24px\"viewBox=\"0 0 24 24\"\n",
              "     width=\"24px\">\n",
              "    <g>\n",
              "        <path d=\"M19 3H5c-1.1 0-2 .9-2 2v14c0 1.1.9 2 2 2h14c1.1 0 2-.9 2-2V5c0-1.1-.9-2-2-2zM9 17H7v-7h2v7zm4 0h-2V7h2v10zm4 0h-2v-4h2v4z\"/>\n",
              "    </g>\n",
              "</svg>\n",
              "  </button>\n",
              "\n",
              "<style>\n",
              "  .colab-df-quickchart {\n",
              "      --bg-color: #E8F0FE;\n",
              "      --fill-color: #1967D2;\n",
              "      --hover-bg-color: #E2EBFA;\n",
              "      --hover-fill-color: #174EA6;\n",
              "      --disabled-fill-color: #AAA;\n",
              "      --disabled-bg-color: #DDD;\n",
              "  }\n",
              "\n",
              "  [theme=dark] .colab-df-quickchart {\n",
              "      --bg-color: #3B4455;\n",
              "      --fill-color: #D2E3FC;\n",
              "      --hover-bg-color: #434B5C;\n",
              "      --hover-fill-color: #FFFFFF;\n",
              "      --disabled-bg-color: #3B4455;\n",
              "      --disabled-fill-color: #666;\n",
              "  }\n",
              "\n",
              "  .colab-df-quickchart {\n",
              "    background-color: var(--bg-color);\n",
              "    border: none;\n",
              "    border-radius: 50%;\n",
              "    cursor: pointer;\n",
              "    display: none;\n",
              "    fill: var(--fill-color);\n",
              "    height: 32px;\n",
              "    padding: 0;\n",
              "    width: 32px;\n",
              "  }\n",
              "\n",
              "  .colab-df-quickchart:hover {\n",
              "    background-color: var(--hover-bg-color);\n",
              "    box-shadow: 0 1px 2px rgba(60, 64, 67, 0.3), 0 1px 3px 1px rgba(60, 64, 67, 0.15);\n",
              "    fill: var(--button-hover-fill-color);\n",
              "  }\n",
              "\n",
              "  .colab-df-quickchart-complete:disabled,\n",
              "  .colab-df-quickchart-complete:disabled:hover {\n",
              "    background-color: var(--disabled-bg-color);\n",
              "    fill: var(--disabled-fill-color);\n",
              "    box-shadow: none;\n",
              "  }\n",
              "\n",
              "  .colab-df-spinner {\n",
              "    border: 2px solid var(--fill-color);\n",
              "    border-color: transparent;\n",
              "    border-bottom-color: var(--fill-color);\n",
              "    animation:\n",
              "      spin 1s steps(1) infinite;\n",
              "  }\n",
              "\n",
              "  @keyframes spin {\n",
              "    0% {\n",
              "      border-color: transparent;\n",
              "      border-bottom-color: var(--fill-color);\n",
              "      border-left-color: var(--fill-color);\n",
              "    }\n",
              "    20% {\n",
              "      border-color: transparent;\n",
              "      border-left-color: var(--fill-color);\n",
              "      border-top-color: var(--fill-color);\n",
              "    }\n",
              "    30% {\n",
              "      border-color: transparent;\n",
              "      border-left-color: var(--fill-color);\n",
              "      border-top-color: var(--fill-color);\n",
              "      border-right-color: var(--fill-color);\n",
              "    }\n",
              "    40% {\n",
              "      border-color: transparent;\n",
              "      border-right-color: var(--fill-color);\n",
              "      border-top-color: var(--fill-color);\n",
              "    }\n",
              "    60% {\n",
              "      border-color: transparent;\n",
              "      border-right-color: var(--fill-color);\n",
              "    }\n",
              "    80% {\n",
              "      border-color: transparent;\n",
              "      border-right-color: var(--fill-color);\n",
              "      border-bottom-color: var(--fill-color);\n",
              "    }\n",
              "    90% {\n",
              "      border-color: transparent;\n",
              "      border-bottom-color: var(--fill-color);\n",
              "    }\n",
              "  }\n",
              "</style>\n",
              "\n",
              "  <script>\n",
              "    async function quickchart(key) {\n",
              "      const quickchartButtonEl =\n",
              "        document.querySelector('#' + key + ' button');\n",
              "      quickchartButtonEl.disabled = true;  // To prevent multiple clicks.\n",
              "      quickchartButtonEl.classList.add('colab-df-spinner');\n",
              "      try {\n",
              "        const charts = await google.colab.kernel.invokeFunction(\n",
              "            'suggestCharts', [key], {});\n",
              "      } catch (error) {\n",
              "        console.error('Error during call to suggestCharts:', error);\n",
              "      }\n",
              "      quickchartButtonEl.classList.remove('colab-df-spinner');\n",
              "      quickchartButtonEl.classList.add('colab-df-quickchart-complete');\n",
              "    }\n",
              "    (() => {\n",
              "      let quickchartButtonEl =\n",
              "        document.querySelector('#df-442e3f3e-17f4-4486-95af-65df75b7914f button');\n",
              "      quickchartButtonEl.style.display =\n",
              "        google.colab.kernel.accessAllowed ? 'block' : 'none';\n",
              "    })();\n",
              "  </script>\n",
              "</div>\n",
              "    </div>\n",
              "  </div>\n"
            ],
            "application/vnd.google.colaboratory.intrinsic+json": {
              "type": "dataframe",
              "variable_name": "df",
              "summary": "{\n  \"name\": \"df\",\n  \"rows\": 54750,\n  \"fields\": [\n    {\n      \"column\": \"city\",\n      \"properties\": {\n        \"dtype\": \"category\",\n        \"num_unique_values\": 15,\n        \"samples\": [\n          \"Dubai\",\n          \"Singapore\",\n          \"New York\"\n        ],\n        \"semantic_type\": \"\",\n        \"description\": \"\"\n      }\n    },\n    {\n      \"column\": \"timestamp\",\n      \"properties\": {\n        \"dtype\": \"object\",\n        \"num_unique_values\": 3650,\n        \"samples\": [\n          \"2013-08-06\",\n          \"2014-08-02\",\n          \"2010-08-18\"\n        ],\n        \"semantic_type\": \"\",\n        \"description\": \"\"\n      }\n    },\n    {\n      \"column\": \"temperature\",\n      \"properties\": {\n        \"dtype\": \"number\",\n        \"std\": 11.000357732023998,\n        \"min\": -25.636964935599227,\n        \"max\": 53.83930279474951,\n        \"num_unique_values\": 54750,\n        \"samples\": [\n          2.161538807161128,\n          23.855741521358546,\n          30.359944481442607\n        ],\n        \"semantic_type\": \"\",\n        \"description\": \"\"\n      }\n    },\n    {\n      \"column\": \"season\",\n      \"properties\": {\n        \"dtype\": \"category\",\n        \"num_unique_values\": 4,\n        \"samples\": [\n          \"spring\",\n          \"autumn\",\n          \"winter\"\n        ],\n        \"semantic_type\": \"\",\n        \"description\": \"\"\n      }\n    }\n  ]\n}"
            }
          },
          "metadata": {},
          "execution_count": 2
        }
      ],
      "source": [
        "# Загружаем сгенерированные данные\n",
        "\n",
        "df = pd.read_csv('temperature_data.csv')\n",
        "df"
      ]
    },
    {
      "cell_type": "code",
      "execution_count": 3,
      "metadata": {
        "id": "2SwEu7fBYVXl",
        "colab": {
          "base_uri": "https://localhost:8080/"
        },
        "outputId": "9f8e666e-4bac-4d75-e70c-a907e54f6cf5"
      },
      "outputs": [
        {
          "output_type": "stream",
          "name": "stdout",
          "text": [
            "<class 'pandas.core.frame.DataFrame'>\n",
            "RangeIndex: 54750 entries, 0 to 54749\n",
            "Data columns (total 4 columns):\n",
            " #   Column       Non-Null Count  Dtype         \n",
            "---  ------       --------------  -----         \n",
            " 0   city         54750 non-null  object        \n",
            " 1   timestamp    54750 non-null  datetime64[ns]\n",
            " 2   temperature  54750 non-null  float64       \n",
            " 3   season       54750 non-null  object        \n",
            "dtypes: datetime64[ns](1), float64(1), object(2)\n",
            "memory usage: 1.7+ MB\n"
          ]
        }
      ],
      "source": [
        "df['timestamp'] = pd.to_datetime(df['timestamp'])\n",
        "df.info()"
      ]
    },
    {
      "cell_type": "markdown",
      "metadata": {
        "id": "axvFsN9BXogu"
      },
      "source": [
        "# Этап 1. Анализ исторических данных:\n",
        "\n",
        "✅ Вычислить скользящее среднее и std температуры с окном в 30 дней для сглаживания краткосрочных колебаний.\n",
        "\n",
        "✅ Выявить аномалии, где температура выходит за пределы  среднее ± 2𝜎 (используя скользящие значения).\n",
        "\n",
        "✅ Рассчитать среднюю температуру и стандартное отклонение для каждого\n",
        "сезона в каждом городе (Профиль сезона).\n",
        "\n",
        "✅ Попробуйте распараллелить проведение этого анализа. Сравните скорость выполнения анализа с распараллеливанием и без него.\n",
        "\n",
        ">учитывая сообщения в тг курса план анализа был немного скорректирован"
      ]
    },
    {
      "cell_type": "markdown",
      "source": [
        "### 1.1. Общий скрипт для анализа"
      ],
      "metadata": {
        "id": "ifZSVGLHXreF"
      }
    },
    {
      "cell_type": "code",
      "source": [
        "# Cкользящие среднее и std температуры с окном в 30 дней\n",
        "\n",
        "df['rolling_mean'] = df.groupby(['city', 'season'])['temperature'].transform(lambda x: x.rolling(window=30, min_periods=1).mean())\n",
        "df['rolling_std'] = df.groupby(['city', 'season'])['temperature'].transform(lambda x: x.rolling(window=30, min_periods=1).std())"
      ],
      "metadata": {
        "id": "yoHaUGdKoggt"
      },
      "execution_count": 4,
      "outputs": []
    },
    {
      "cell_type": "code",
      "source": [
        "# Аномалии, где температура выходит за пределы среднее ± 2𝜎 (используя скользящие значения)\n",
        "\n",
        "df['anomaly'] = df.apply(lambda x: True if(x[\"temperature\"]>x['rolling_mean'] + 2*x['rolling_std']) | (x[\"temperature\"]<x['rolling_mean'] - 2*x['rolling_std']) else False, axis=1)"
      ],
      "metadata": {
        "id": "AYrG5h3gPraX"
      },
      "execution_count": 5,
      "outputs": []
    },
    {
      "cell_type": "code",
      "source": [
        "# Профиль сезона\n",
        "\n",
        "df['mean'] = df.groupby(['city', 'season'])['temperature'].transform('mean')\n",
        "df['std'] = df.groupby(['city', 'season'])['temperature'].transform('std')"
      ],
      "metadata": {
        "id": "z3Ft9cKf2MC7"
      },
      "execution_count": 6,
      "outputs": []
    },
    {
      "cell_type": "code",
      "source": [
        "# Средняя температура по сезону и городу\n",
        "df['mean_temperature'] = df.groupby(['city', 'season'])['temperature'].transform('mean')\n",
        "\n",
        "# Стандартное отклонение температуры по сезону и городу\n",
        "df['std_temperature'] = df.groupby(['city', 'season'])['temperature'].transform('std')"
      ],
      "metadata": {
        "id": "I4rcnLlMJXvu"
      },
      "execution_count": 7,
      "outputs": []
    },
    {
      "cell_type": "markdown",
      "source": [
        "### 1.2. Функция анализа временных рядов для города"
      ],
      "metadata": {
        "id": "x0klkZOpX3AU"
      }
    },
    {
      "cell_type": "code",
      "source": [
        "def analyze_city_temperature(args):\n",
        "\n",
        "    df, city = args\n",
        "\n",
        "    city_df = df[df['city'] == city].copy()\n",
        "\n",
        "    # Cкользящие среднее и std температуры с окном в 30 дней\n",
        "    city_df['rolling_mean'] = city_df.groupby(['season'])['temperature'].transform(lambda x: x.rolling(window=30, min_periods=1).mean())\n",
        "    city_df['rolling_std'] = city_df.groupby(['season'])['temperature'].transform(lambda x: x.rolling(window=30, min_periods=1).std())\n",
        "\n",
        "    # Аномалии, где температура выходит за пределы среднее ± 2𝜎 (используя скользящие значения)\n",
        "    city_df['anomaly'] = city_df.apply(\n",
        "        lambda x: True if(x[\"temperature\"]>x['rolling_mean'] + 2*x['rolling_std']) or\n",
        "                       (x[\"temperature\"]<x['rolling_mean'] - 2*x['rolling_std']) else False, axis=1\n",
        "        )\n",
        "\n",
        "    # Профиль сезона\n",
        "    season_profile = city_df.groupby('season')['temperature'].agg(['mean', 'std'])\n",
        "\n",
        "    # Средняя, min, max температура за всё время\n",
        "    avg_temp = city_df['temperature'].mean()\n",
        "    min_temp = city_df['temperature'].min()\n",
        "    max_temp = city_df['temperature'].max()\n",
        "\n",
        "    # Список аномальных точек\n",
        "    anomalies = city_df[city_df['anomaly']]\n",
        "\n",
        "    # Результат-словарь для города\n",
        "    result = {\n",
        "        'city': city,\n",
        "        'average_temperature': avg_temp,\n",
        "        'min_temperature': min_temp,\n",
        "        'max_temperature': max_temp,\n",
        "        'season_profile': season_profile,\n",
        "        'rolling_mean': city_df[['timestamp', 'rolling_mean']],\n",
        "        'rolling_std': city_df[['timestamp', 'rolling_std']],\n",
        "        'anomalies': anomalies[['timestamp', 'temperature']]\n",
        "    }\n",
        "\n",
        "    return result"
      ],
      "metadata": {
        "id": "Wv6rOTuiM7Zg"
      },
      "execution_count": 8,
      "outputs": []
    },
    {
      "cell_type": "code",
      "source": [
        "data = pd.read_csv('temperature_data.csv')\n",
        "cities = data['city'].unique()\n",
        "\n",
        "args = [(data, city) for city in cities]"
      ],
      "metadata": {
        "id": "FLn20ozJCXxx"
      },
      "execution_count": 10,
      "outputs": []
    },
    {
      "cell_type": "code",
      "source": [
        "import time\n",
        "\n",
        "# Последовательное выполнение\n",
        "start_time = time.time()\n",
        "\n",
        "results_sequential = [analyze_city_temperature((data, city)) for city in cities]\n",
        "\n",
        "end_time = time.time()\n",
        "print(f\"Время выполнения (последовательно): {end_time - start_time:.2f} секунд\")"
      ],
      "metadata": {
        "id": "_M0A7iFG7qj-",
        "outputId": "4de25666-65ac-46b2-b35d-df30c22de272",
        "colab": {
          "base_uri": "https://localhost:8080/"
        }
      },
      "execution_count": 18,
      "outputs": [
        {
          "output_type": "stream",
          "name": "stdout",
          "text": [
            "Время выполнения (последовательно): 1.25 секунд\n"
          ]
        }
      ]
    },
    {
      "cell_type": "code",
      "source": [
        "results_dict = {result['city']: result for result in results_sequential}"
      ],
      "metadata": {
        "id": "ty_4mPwTd7_j"
      },
      "execution_count": 12,
      "outputs": []
    },
    {
      "cell_type": "code",
      "source": [
        "from multiprocessing import Pool, cpu_count\n",
        "\n",
        "# Параллельное выполнение\n",
        "start_time = time.time()\n",
        "\n",
        "with Pool(processes=4) as pool:\n",
        "    results_parallel = pool.map(analyze_city_temperature, args)\n",
        "\n",
        "end_time = time.time()\n",
        "print(f\"Время выполнения (параллельно): {end_time - start_time:.2f} секунд\")"
      ],
      "metadata": {
        "colab": {
          "base_uri": "https://localhost:8080/"
        },
        "id": "CwOsuALRQVsp",
        "outputId": "d83edc33-b19b-45ea-ccc8-d8c54d6f2c10"
      },
      "execution_count": 19,
      "outputs": [
        {
          "output_type": "stream",
          "name": "stdout",
          "text": [
            "Время выполнения (параллельно): 1.74 секунд\n"
          ]
        }
      ]
    },
    {
      "cell_type": "markdown",
      "source": [
        "> При исследовании выяснила, что время выполнения параллельного исполнения не всегда меньше, чем при последовательном (что, как мне казалось, ожидалось). Это возможно связано с накладками на выделения ресурсов для распараллеливания, если бы данных было гораздо больше (* мои предположения и прочитанная информация) - эти накладки не так сильно ощущались."
      ],
      "metadata": {
        "id": "RlsnN1I7ER6t"
      }
    },
    {
      "cell_type": "markdown",
      "source": [
        "# Этап 2. Мониторинг текущей температуры:\n",
        "✅ Подключить OpenWeatherMap API для получения текущей температуры города.\n",
        "\n",
        "✅ Получить текущую температуру для выбранного города через OpenWeatherMap API.\n",
        "\n",
        "✅ Определить, является ли текущая температура нормальной, исходя из исторических данных для текущего сезона.\n",
        "\n",
        "✅ Данные на самом деле не совсем реальные (сюрпрайз). Поэтому на момент эксперимента погода в Берлине, Каире и Дубае была в рамках нормы, а в Пекине и Москве аномальная. Протестируйте свое решение для разных городов.\n",
        "\n",
        "✅ Попробуйте для получения текущей температуры использовать синхронные и асинхронные методы. Что здесь лучше использовать?"
      ],
      "metadata": {
        "id": "npIQUE4h9D12"
      }
    },
    {
      "cell_type": "code",
      "source": [
        "import requests\n",
        "import datetime\n",
        "\n",
        "# Синхронный метод\n",
        "\n",
        "API_KEY = \"Ваш API ключ\"\n",
        "BASE_URL = \"http://api.openweathermap.org/data/2.5/weather\"\n",
        "\n",
        "def get_current_temperature(city):\n",
        "    try:\n",
        "        params = {\n",
        "            \"q\": city,\n",
        "            \"appid\": API_KEY,\n",
        "            \"units\": \"metric\"\n",
        "        }\n",
        "        response = requests.get(BASE_URL, params=params)\n",
        "        if response.status_code == 200:\n",
        "            data = response.json()\n",
        "            return data['main']['temp']\n",
        "    except Exception as e:\n",
        "        print(\"ERROR:\", e)\n",
        "\n",
        "\n",
        "start_time = time.time()\n",
        "\n",
        "for city in cities:\n",
        "  print(f\"Температура в {city}: {get_current_temperature(city)}°C\")\n",
        "\n",
        "end_time = time.time()\n",
        "print(f\"Время выполнения (синхронный метод): {end_time - start_time:.2f} секунд\")"
      ],
      "metadata": {
        "id": "6FHG_vBz9aLO",
        "outputId": "331bcdb0-87c5-42a0-fa54-b0d46c25fbce",
        "colab": {
          "base_uri": "https://localhost:8080/"
        }
      },
      "execution_count": 22,
      "outputs": [
        {
          "output_type": "stream",
          "name": "stdout",
          "text": [
            "Температура в New York: -1.49°C\n",
            "Температура в London: 4.05°C\n",
            "Температура в Paris: 7.29°C\n",
            "Температура в Tokyo: 6.78°C\n",
            "Температура в Moscow: -4.29°C\n",
            "Температура в Sydney: 20.87°C\n",
            "Температура в Berlin: 10.85°C\n",
            "Температура в Beijing: 0.94°C\n",
            "Температура в Rio de Janeiro: 28.11°C\n",
            "Температура в Dubai: 19.96°C\n",
            "Температура в Los Angeles: 20.83°C\n",
            "Температура в Singapore: 25.68°C\n",
            "Температура в Mumbai: 21.99°C\n",
            "Температура в Cairo: 17.42°C\n",
            "Температура в Mexico City: 19.97°C\n",
            "Время выполнения (синхронный метод): 0.86 секунд\n"
          ]
        }
      ]
    },
    {
      "cell_type": "code",
      "source": [
        "import aiohttp\n",
        "import asyncio\n",
        "\n",
        "# Асинхронный метод\n",
        "\n",
        "async def get_current_temperature_async(city):\n",
        "    params = {\n",
        "        \"q\": city,\n",
        "        \"appid\": API_KEY,\n",
        "        \"units\": \"metric\"\n",
        "    }\n",
        "\n",
        "    try:\n",
        "        async with aiohttp.ClientSession() as session:\n",
        "            async with session.get(BASE_URL, params=params) as response:\n",
        "                if response.status == 200:\n",
        "                    data = await response.json()\n",
        "                    return data['main']['temp']\n",
        "    except Exception as e:\n",
        "        print(\"ERROR:\", e)\n",
        "\n",
        "async def main():\n",
        "    tasks = [get_current_temperature_async(city) for city in cities]\n",
        "    temperatures = await asyncio.gather(*tasks)\n",
        "\n",
        "    for city, temp in zip(cities, temperatures):\n",
        "        if temp is not None:\n",
        "            print(f\"Температура в {city}: {temp}°C\")\n",
        "\n",
        "start_time = time.time()\n",
        "\n",
        "await main()\n",
        "\n",
        "end_time = time.time()\n",
        "print(f\"Время выполнения (асинхронный метод): {end_time - start_time:.2f} секунд\")"
      ],
      "metadata": {
        "id": "lUFKQwkB9c5m",
        "outputId": "64d53cdc-ff83-4bd0-8a5f-ff19f74e0176",
        "colab": {
          "base_uri": "https://localhost:8080/"
        }
      },
      "execution_count": 23,
      "outputs": [
        {
          "output_type": "stream",
          "name": "stdout",
          "text": [
            "Температура в New York: -1.49°C\n",
            "Температура в London: 4.05°C\n",
            "Температура в Paris: 7.29°C\n",
            "Температура в Tokyo: 6.78°C\n",
            "Температура в Moscow: -4.29°C\n",
            "Температура в Sydney: 20.87°C\n",
            "Температура в Berlin: 10.85°C\n",
            "Температура в Beijing: 0.94°C\n",
            "Температура в Rio de Janeiro: 28.11°C\n",
            "Температура в Dubai: 19.96°C\n",
            "Температура в Los Angeles: 20.83°C\n",
            "Температура в Singapore: 25.68°C\n",
            "Температура в Mumbai: 21.99°C\n",
            "Температура в Cairo: 17.42°C\n",
            "Температура в Mexico City: 19.97°C\n",
            "Время выполнения (асинхронный метод): 0.07 секунд\n"
          ]
        }
      ]
    },
    {
      "cell_type": "markdown",
      "source": [
        "> Асинхронный метод показал гораздо более быстрый результат выполнения запроса по сравнению с синхронным."
      ],
      "metadata": {
        "id": "Ewnj3n5GFZVz"
      }
    },
    {
      "cell_type": "markdown",
      "source": [
        "### Функционал проверки нормальности текущей температуры"
      ],
      "metadata": {
        "id": "CdHv-HjOFni4"
      }
    },
    {
      "cell_type": "code",
      "source": [
        "def is_temperature_normal(current_temp, city, result_hist, current_season):\n",
        "    city_result = result_hist.get(city)\n",
        "    season_profile = city_result['season_profile']\n",
        "    current_season_profile = season_profile.loc[season_profile.index == current_season]\n",
        "\n",
        "    mean_temp = current_season_profile['mean'].values[0]\n",
        "    std_temp = current_season_profile['std'].values[0]\n",
        "\n",
        "    lower_bound = mean_temp - 2 * std_temp\n",
        "    upper_bound = mean_temp + 2 * std_temp\n",
        "\n",
        "    is_normal = lower_bound <= current_temp <= upper_bound\n",
        "    explanation = f\"Текущая температура {current_temp}°C {'входит в норму' if is_normal else 'выходит за пределы нормы'} ({lower_bound:.2f}°C до {upper_bound:.2f}°C)\"\n",
        "\n",
        "    return explanation"
      ],
      "metadata": {
        "id": "HB8-XBvlcNrc"
      },
      "execution_count": 24,
      "outputs": []
    },
    {
      "cell_type": "code",
      "source": [
        "current_season = month_to_season[datetime.datetime.now().month]\n",
        "\n",
        "for city in cities:\n",
        "    current_temp = get_current_temperature(city)\n",
        "    if current_temp is not None:\n",
        "        result = is_temperature_normal(current_temp, city, results_dict, current_season)\n",
        "        print(f\"{result} для {city}\")"
      ],
      "metadata": {
        "id": "Ylvpwo4rh-pP",
        "outputId": "1610073e-1307-4dbf-8e6c-552d39ae848a",
        "colab": {
          "base_uri": "https://localhost:8080/"
        }
      },
      "execution_count": 25,
      "outputs": [
        {
          "output_type": "stream",
          "name": "stdout",
          "text": [
            "Текущая температура -1.49°C входит в норму (-10.41°C до 10.51°C) для New York\n",
            "Текущая температура 4.06°C входит в норму (-5.02°C до 14.79°C) для London\n",
            "Текущая температура 7.29°C входит в норму (-5.35°C до 13.85°C) для Paris\n",
            "Текущая температура 6.78°C входит в норму (-3.94°C до 16.23°C) для Tokyo\n",
            "Текущая температура -4.29°C входит в норму (-20.26°C до -0.18°C) для Moscow\n",
            "Текущая температура 20.86°C входит в норму (2.45°C до 21.62°C) для Sydney\n",
            "Текущая температура 11.01°C выходит за пределы нормы (-10.00°C до 9.79°C) для Berlin\n",
            "Текущая температура 0.94°C входит в норму (-11.86°C до 8.31°C) для Beijing\n",
            "Текущая температура 28.11°C входит в норму (10.03°C до 29.86°C) для Rio de Janeiro\n",
            "Текущая температура 19.96°C входит в норму (10.30°C до 29.75°C) для Dubai\n",
            "Текущая температура 20.89°C входит в норму (5.04°C до 25.03°C) для Los Angeles\n",
            "Текущая температура 25.68°C входит в норму (17.03°C до 37.13°C) для Singapore\n",
            "Текущая температура 21.99°C входит в норму (15.35°C до 34.87°C) для Mumbai\n",
            "Текущая температура 17.42°C входит в норму (5.39°C до 24.97°C) для Cairo\n",
            "Текущая температура 19.97°C входит в норму (2.06°C до 21.99°C) для Mexico City\n"
          ]
        }
      ]
    }
  ],
  "metadata": {
    "colab": {
      "provenance": []
    },
    "kernelspec": {
      "display_name": "Python 3",
      "name": "python3"
    },
    "language_info": {
      "name": "python"
    }
  },
  "nbformat": 4,
  "nbformat_minor": 0
}